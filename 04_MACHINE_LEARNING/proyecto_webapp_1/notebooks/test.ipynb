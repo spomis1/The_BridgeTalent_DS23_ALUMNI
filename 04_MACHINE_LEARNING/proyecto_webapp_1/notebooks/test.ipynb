{
 "cells": [
  {
   "cell_type": "code",
   "execution_count": 1,
   "metadata": {},
   "outputs": [],
   "source": [
    "import os"
   ]
  },
  {
   "cell_type": "code",
   "execution_count": 7,
   "metadata": {},
   "outputs": [
    {
     "data": {
      "text/plain": [
       "'c:\\\\Users\\\\mrusso\\\\PERSONAL\\\\THE_BRIDGE_23_ALUMNI\\\\04_MACHINE_LEARNING\\\\proyecto_webapp_1\\\\notebooks'"
      ]
     },
     "execution_count": 7,
     "metadata": {},
     "output_type": "execute_result"
    }
   ],
   "source": [
    "os.path.abspath(os.path.dirname(\"test.ipynb\"))\n"
   ]
  },
  {
   "cell_type": "code",
   "execution_count": 12,
   "metadata": {},
   "outputs": [
    {
     "data": {
      "text/plain": [
       "'c:\\\\Users\\\\mrusso\\\\PERSONAL\\\\THE_BRIDGE_23_ALUMNI\\\\04_MACHINE_LEARNING\\\\proyecto\\\\notebooks'"
      ]
     },
     "execution_count": 12,
     "metadata": {},
     "output_type": "execute_result"
    }
   ],
   "source": [
    "os.path.abspath(os.path.join(os.path.dirname(\"main.py\")))"
   ]
  },
  {
   "cell_type": "code",
   "execution_count": 2,
   "metadata": {},
   "outputs": [
    {
     "ename": "NameError",
     "evalue": "name '__file__' is not defined",
     "output_type": "error",
     "traceback": [
      "\u001b[1;31m---------------------------------------------------------------------------\u001b[0m",
      "\u001b[1;31mNameError\u001b[0m                                 Traceback (most recent call last)",
      "\u001b[1;32mc:\\Users\\mrusso\\PERSONAL\\THE_BRIDGE_23_ALUMNI\\04_MACHINE_LEARNING\\proyecto\\notebooks\\test.ipynb Cell 2\u001b[0m line \u001b[0;36m<module>\u001b[1;34m\u001b[0m\n\u001b[0;32m      <a href='vscode-notebook-cell:/c%3A/Users/mrusso/PERSONAL/THE_BRIDGE_23_ALUMNI/04_MACHINE_LEARNING/proyecto/notebooks/test.ipynb#W1sZmlsZQ%3D%3D?line=0'>1</a>\u001b[0m PROJECT_ROOT \u001b[39m=\u001b[39m os\u001b[39m.\u001b[39mpath\u001b[39m.\u001b[39mabspath(os\u001b[39m.\u001b[39mpath\u001b[39m.\u001b[39mjoin(\n\u001b[1;32m----> <a href='vscode-notebook-cell:/c%3A/Users/mrusso/PERSONAL/THE_BRIDGE_23_ALUMNI/04_MACHINE_LEARNING/proyecto/notebooks/test.ipynb#W1sZmlsZQ%3D%3D?line=1'>2</a>\u001b[0m                   os\u001b[39m.\u001b[39mpath\u001b[39m.\u001b[39mdirname(\u001b[39m__file__\u001b[39;49m), \n\u001b[0;32m      <a href='vscode-notebook-cell:/c%3A/Users/mrusso/PERSONAL/THE_BRIDGE_23_ALUMNI/04_MACHINE_LEARNING/proyecto/notebooks/test.ipynb#W1sZmlsZQ%3D%3D?line=2'>3</a>\u001b[0m                   os\u001b[39m.\u001b[39mpardir)\n\u001b[0;32m      <a href='vscode-notebook-cell:/c%3A/Users/mrusso/PERSONAL/THE_BRIDGE_23_ALUMNI/04_MACHINE_LEARNING/proyecto/notebooks/test.ipynb#W1sZmlsZQ%3D%3D?line=3'>4</a>\u001b[0m )\n",
      "\u001b[1;31mNameError\u001b[0m: name '__file__' is not defined"
     ]
    }
   ],
   "source": [
    "PROJECT_ROOT = os.path.abspath(os.path.join(\n",
    "                  os.path.dirname(__file__), \n",
    "                  os.pardir)\n",
    ")"
   ]
  },
  {
   "cell_type": "code",
   "execution_count": null,
   "metadata": {},
   "outputs": [],
   "source": []
  }
 ],
 "metadata": {
  "kernelspec": {
   "display_name": "data_science_py395",
   "language": "python",
   "name": "python3"
  },
  "language_info": {
   "codemirror_mode": {
    "name": "ipython",
    "version": 3
   },
   "file_extension": ".py",
   "mimetype": "text/x-python",
   "name": "python",
   "nbconvert_exporter": "python",
   "pygments_lexer": "ipython3",
   "version": "3.9.5"
  }
 },
 "nbformat": 4,
 "nbformat_minor": 2
}
